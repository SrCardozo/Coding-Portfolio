{
  "cells": [
    {
      "cell_type": "markdown",
      "metadata": {
        "id": "TmdrKXNFz98b"
      },
      "source": [
        "# Integração Python com Outlook\n",
        "\n",
        "### Funciona para qualquer e-mail: corporativo, gmail, hotmail, etc.\n",
        "\n",
        "- Passo 1: Importar win32 e inicializar o outlook"
      ]
    },
    {
      "cell_type": "code",
      "execution_count": null,
      "metadata": {
        "id": "F3Xl4AZBz98c"
      },
      "outputs": [],
      "source": [
        "import win32com.client as win32\n",
        "outlook = win32.Dispatch('outlook.application')"
      ]
    },
    {
      "cell_type": "markdown",
      "metadata": {
        "id": "e4taPfYvz98d"
      },
      "source": [
        "- Passo 2: Escrever o e-mail e disparar"
      ]
    },
    {
      "cell_type": "code",
      "execution_count": null,
      "metadata": {
        "id": "eYT6RBHdz98d"
      },
      "outputs": [],
      "source": [
        "mail = outlook.CreateItem(0)\n",
        "mail.To = 'joaoprlira@gmail.com'\n",
        "mail.CC = 'email@gmail.com'\n",
        "mail.BCC = 'email@gmail.com'\n",
        "mail.Subject = 'Email vindo do Outlook'\n",
        "mail.Body = 'Texto do E-mail'\n",
        "#ou mail.HTMLBody = '<p>Corpo do Email em HTML</p>'\n",
        "\n",
        "# Anexos (pode colocar quantos quiser):\n",
        "attachment  = r'C:\\Users\\joaop\\Google Drive\\Python Impressionador\\Financeiro.xlsx'\n",
        "mail.Attachments.Add(attachment)\n",
        "\n",
        "mail.Send()"
      ]
    },
    {
      "cell_type": "markdown",
      "metadata": {
        "id": "Rex7s8DtejHp"
      },
      "source": [
        "## Desafio Python e Email"
      ]
    },
    {
      "cell_type": "code",
      "execution_count": null,
      "metadata": {
        "id": "w9j4ERpqejHq",
        "outputId": "b49b48f8-f0fa-4f18-ab94-7d2c9dd422c6"
      },
      "outputs": [
        {
          "name": "stdout",
          "output_type": "stream",
          "text": [
            "Collecting openpyxl\n",
            "  Downloading openpyxl-3.1.5-py2.py3-none-any.whl.metadata (2.5 kB)\n",
            "Collecting et-xmlfile (from openpyxl)\n",
            "  Downloading et_xmlfile-1.1.0-py3-none-any.whl.metadata (1.8 kB)\n",
            "Downloading openpyxl-3.1.5-py2.py3-none-any.whl (250 kB)\n",
            "   ---------------------------------------- 0.0/250.9 kB ? eta -:--:--\n",
            "   --------------------- ------------------ 133.1/250.9 kB 4.0 MB/s eta 0:00:01\n",
            "   ---------------------------------------- 250.9/250.9 kB 3.8 MB/s eta 0:00:00\n",
            "Downloading et_xmlfile-1.1.0-py3-none-any.whl (4.7 kB)\n",
            "Installing collected packages: et-xmlfile, openpyxl\n",
            "Successfully installed et-xmlfile-1.1.0 openpyxl-3.1.5\n"
          ]
        },
        {
          "name": "stderr",
          "output_type": "stream",
          "text": [
            "\n",
            "[notice] A new release of pip is available: 24.1.2 -> 24.2\n",
            "[notice] To update, run: C:\\Users\\AMCTE\\AppData\\Local\\Microsoft\\WindowsApps\\PythonSoftwareFoundation.Python.3.11_qbz5n2kfra8p0\\python.exe -m pip install --upgrade pip\n"
          ]
        }
      ],
      "source": [
        "!pip install openpyxl"
      ]
    },
    {
      "cell_type": "code",
      "execution_count": null,
      "metadata": {
        "id": "WzfP4TSxejHs"
      },
      "outputs": [],
      "source": [
        "import pandas as pd\n",
        "\n",
        "df_emails = pd.read_excel('Enviar E-mails.xlsx')\n",
        "\n",
        "df_emails"
      ]
    },
    {
      "cell_type": "code",
      "execution_count": null,
      "metadata": {
        "id": "2-R_-DOUejHs"
      },
      "outputs": [],
      "source": [
        "import win32com.client as win32, logging as log\n",
        "from datetime import datetime\n",
        "\n",
        "# Configurar o logger\n",
        "log.basicConfig(filename='log_emails.log', level=log.INFO)\n",
        "\n",
        "#Iniciar outlook\n",
        "outlook = win32.Dispatch('outlook.application')\n",
        "\n",
        "#Obter data atual\n",
        "data = datetime.now()\n",
        "\n",
        "try:\n",
        "    for linha in df_emails.index[:1]:\n",
        "        area = df_emails.loc[linha, 'Relatório']\n",
        "\n",
        "        mail = outlook.CreateItem(0)\n",
        "        mail.To = df_emails.loc[linha, 'E-mail']\n",
        "        mail.CC = df_emails.loc[linha, 'Cópia']\n",
        "        mail.BCC = df_emails.loc[linha, 'Cópia Oculta']\n",
        "        mail.Subject = f'Report Diário {area.title()} - {data.strftime(\"%d/%m/%y\")}'\n",
        "        attachment  = fr\"C:\\Users\\AMCTE\\Downloads\\Integrando Python com Outlook\\{area}.xlsx\"\n",
        "        mail.Attachments.Add(attachment)\n",
        "\n",
        "        mail.Body = f'''\n",
        "    Boa noite, {df_emails.loc[linha, 'Gerente']}!\n",
        "\n",
        "    Segue em anexo o relatório diário da Área de {area}, para ciência.\n",
        "\n",
        "    Favor confirmar o recebimento deste e-mail.\n",
        "\n",
        "\n",
        "    Atenciosamente,\n",
        "    Alex Cardoso, Head de Inovação\n",
        "    '''\n",
        "        mail.display()\n",
        "        #mail.Send()\n",
        "\n",
        "    log.info(f'{data}: Os emails foram enviados com sucesso.\\n')\n",
        "except:\n",
        "    log.error(f'{data}: Um erro ocorreu.')"
      ]
    },
    {
      "cell_type": "markdown",
      "metadata": {
        "id": "frWNWQ8gejHt"
      },
      "source": [
        "## Leitura de e-mails e extração de anexos"
      ]
    },
    {
      "cell_type": "code",
      "execution_count": null,
      "metadata": {
        "id": "53hOHqrwejHt",
        "outputId": "a845aad4-c43c-4c91-de25-ca5b1b976d67"
      },
      "outputs": [
        {
          "name": "stdout",
          "output_type": "stream",
          "text": [
            "Requirement already satisfied: imap_tools in c:\\users\\amcte\\appdata\\local\\packages\\pythonsoftwarefoundation.python.3.11_qbz5n2kfra8p0\\localcache\\local-packages\\python311\\site-packages (1.7.2)\n"
          ]
        },
        {
          "name": "stderr",
          "output_type": "stream",
          "text": [
            "\n",
            "[notice] A new release of pip is available: 24.1.2 -> 24.2\n",
            "[notice] To update, run: C:\\Users\\AMCTE\\AppData\\Local\\Microsoft\\WindowsApps\\PythonSoftwareFoundation.Python.3.11_qbz5n2kfra8p0\\python.exe -m pip install --upgrade pip\n"
          ]
        }
      ],
      "source": [
        "!pip install imap_tools"
      ]
    },
    {
      "cell_type": "code",
      "execution_count": null,
      "metadata": {
        "id": "18Bcot8PejHu"
      },
      "outputs": [],
      "source": [
        "from imap_tools import MailBox, AND, OR, NOT\n",
        "\n",
        "usuario = 'email_usuario@gmail.com'\n",
        "senha = 'senha_de_app'\n",
        "\n",
        "meu_email = MailBox('imap.gmail.com').login(usuario, senha)"
      ]
    },
    {
      "cell_type": "code",
      "execution_count": null,
      "metadata": {
        "id": "kfERSXt4ejHu",
        "outputId": "9c4fcbb4-a4c3-46e8-c08e-5070c3cb2745"
      },
      "outputs": [
        {
          "name": "stdout",
          "output_type": "stream",
          "text": [
            "Report Diário - Operações - 05/08/24\n",
            "Operações.xlsx\n"
          ]
        }
      ],
      "source": [
        "lista_emails = meu_email.fetch(AND(cc='gustavo@gmail.com'))\n",
        "\n",
        "for email in lista_emails:\n",
        "    print(email.subject)\n",
        "\n",
        "    #Salvar anexos\n",
        "    if len(email.attachments) > 0:\n",
        "        for anexo in email.attachments:\n",
        "            informacoes_anexo = anexo.payload\n",
        "            with open(f\"{anexo.filename}\", \"wb\") as arquivo_excel:\n",
        "                arquivo_excel.write(informacoes_anexo)\n"
      ]
    }
  ],
  "metadata": {
    "colab": {
      "provenance": []
    },
    "kernelspec": {
      "display_name": "Python 3",
      "language": "python",
      "name": "python3"
    },
    "language_info": {
      "codemirror_mode": {
        "name": "ipython",
        "version": 3
      },
      "file_extension": ".py",
      "mimetype": "text/x-python",
      "name": "python",
      "nbconvert_exporter": "python",
      "pygments_lexer": "ipython3",
      "version": "3.11.9"
    }
  },
  "nbformat": 4,
  "nbformat_minor": 0
}
