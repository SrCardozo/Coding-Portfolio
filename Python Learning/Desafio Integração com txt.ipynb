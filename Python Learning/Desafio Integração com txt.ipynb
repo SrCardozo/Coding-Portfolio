{
  "cells": [
    {
      "cell_type": "markdown",
      "metadata": {
        "id": "68kwAWx6moJp"
      },
      "source": [
        "### Desafio onde vamos aprender:\n",
        "\n",
        "- Na Hashtag, sempre analisamos o nosso \"Funil de Vendas\". Para isso, rastreamos de onde veio os alunos por meio de um código, do tipo:\n",
        "    - hashtag_site_org -> Pessoas que vieram pelo site da Hashtag\n",
        "    - hashtag_yt_org -> Pessoas que vieram pelo Youtube da Hashtag\n",
        "    - hashtag_ig_org -> Pessoas que vieram pelo Instagram da Hashtag\n",
        "    - hashtag_igfb_org -> Pessoas que vieram pelo Instagram ou Facebook da Hashtag\n",
        "\n",
        "Os códigos diferentes disso, são códigos de anúncio da Hashtag.\n",
        "\n",
        "- Queremos analisar quantos alunos vieram de anúncio e quantos vieram \"orgânico\".\n",
        "- Qual a melhor fonte \"orgânica\" de alunos\n",
        "\n",
        "Obs: orgânico é tudo aquilo que não veio de anúncios.\n",
        "\n",
        "No nosso sistema, conseguimos exportar um txt com as informações dos alunos, conforme o arquivo Alunos.txt<br>\n",
        "(Os dados foram gerados aleatoriamente para simular uma situação real, já que não podemos fornecer os dados reais dos alunos por questões de segurança)\n",
        "\n",
        "- No final, para treinar, vamos escrever todas essas respostas em um novo arquivo txt"
      ]
    },
    {
      "cell_type": "code",
      "execution_count": null,
      "metadata": {
        "id": "askUhsE8moJp",
        "outputId": "98e0235b-75a1-4e81-e314-d6d5ea641e80"
      },
      "outputs": [
        {
          "name": "stdout",
          "output_type": "stream",
          "text": [
            "Orgânicos: 226\n",
            "Anúncios: 274\n"
          ]
        }
      ],
      "source": [
        "#Contar orgânicos e não orgânicos com regex\n",
        "import re\n",
        "\n",
        "with open('Alunos.txt', 'r') as arquivo2:\n",
        "    texto = arquivo2.readlines()\n",
        "\n",
        "padrao_org = re.compile(r'\\w+_org\\w*')\n",
        "organicos = 0\n",
        "nao_organicos = 0\n",
        "\n",
        "for item in texto[4:]:\n",
        "    aluno, origem = item.split(',')\n",
        "    if len(re.findall(padrao_org, origem)) > 0:\n",
        "        organicos += 1\n",
        "    else:\n",
        "        nao_organicos += 1\n",
        "\n",
        "\n",
        "print('Orgânicos:', organicos)\n",
        "print('Anúncios:', nao_organicos)"
      ]
    },
    {
      "cell_type": "code",
      "execution_count": null,
      "metadata": {
        "id": "zwnbyCWzmoJq",
        "outputId": "a368ec64-aa38-434c-ad5d-eeeec12e6df2"
      },
      "outputs": [
        {
          "name": "stdout",
          "output_type": "stream",
          "text": [
            "Orgânicos: 226\n",
            "Anúncios: 274\n"
          ]
        }
      ],
      "source": [
        "#Contar orgânicos e não orgânicos sem regex\n",
        "with open('Alunos.txt', 'r') as arquivo2:\n",
        "    texto2 = arquivo2.readlines()\n",
        "\n",
        "alunos = []\n",
        "contagem_org = 0\n",
        "contagem_norg = 0\n",
        "\n",
        "for item in texto2[4:]:\n",
        "    aluno, origem = item.split(',')\n",
        "    alunos.append({'aluno': aluno, 'origem': origem})\n",
        "\n",
        "    if 'org' in origem:\n",
        "        contagem_org += 1\n",
        "    else:\n",
        "        contagem_norg += 1\n",
        "\n",
        "\n",
        "print('Orgânicos:', contagem_org)\n",
        "print('Anúncios:', contagem_norg)"
      ]
    },
    {
      "cell_type": "code",
      "execution_count": null,
      "metadata": {
        "id": "j89sK_z8moJq",
        "outputId": "ca560b90-0737-4c40-bd55-22e7c73108d0"
      },
      "outputs": [
        {
          "data": {
            "text/plain": [
              "{'hashtag_yt_org': 155,\n",
              " 'hashtag_site_org': 73,\n",
              " 'hashtag_tl_org': 27,\n",
              " 'hashtag_em_org': 25,\n",
              " 'hashtag_ig_org': 22,\n",
              " 'hashtag_st_org': 10,\n",
              " 'respondeai_div_org': 4,\n",
              " 'bettha_div_org': 4,\n",
              " 'ct_div_org': 3,\n",
              " 'hashtag_igfb_org': 2,\n",
              " 'parceria_div_org': 2,\n",
              " 'hashtag_email_org': 1,\n",
              " 'hashtag_org': 1,\n",
              " 'acaduniv_div_org': 1,\n",
              " '3Dhashtag_yt_org': 1,\n",
              " 'ciatalentos_div_org': 1,\n",
              " 'alemdamed_div_org': 1}"
            ]
          },
          "metadata": {},
          "output_type": "display_data"
        }
      ],
      "source": [
        "#Melhor fonte orgânica\n",
        "import re\n",
        "\n",
        "with open('Alunos.txt', 'r') as arquivo2:\n",
        "    texto3 = arquivo2.read()\n",
        "\n",
        "\n",
        "padrao_org = re.compile(r'(\\w+org)\\w*')\n",
        "organicos = re.findall(padrao_org, texto3)\n",
        "\n",
        "organicos = set(organicos)\n",
        "organicos = list(organicos)\n",
        "\n",
        "contagem_fontes = {}\n",
        "\n",
        "for item in organicos:\n",
        "    contagem_fontes[item] = 0\n",
        "\n",
        "for dic in alunos:\n",
        "    for fonte in organicos:\n",
        "        if fonte in dic['origem']:\n",
        "            contagem_fontes[fonte] += 1\n",
        "\n",
        "contagem_fontes = dict(sorted(contagem_fontes.items(), key=lambda item: item[1], reverse=True))\n",
        "\n",
        "display(contagem_fontes)\n"
      ]
    },
    {
      "cell_type": "code",
      "execution_count": null,
      "metadata": {
        "id": "sXlmY8afmoJq"
      },
      "outputs": [],
      "source": [
        "with open('Análise Alunos.txt', 'w') as resultado:\n",
        "    resultado.write(f'Quantidade Orgânicos: {contagem_org}\\n')\n",
        "    resultado.write(f'Quantidade Anúncios: {contagem_norg}\\n\\n')\n",
        "    resultado.write('Quantidade por Fonte Orgânica:\\n')\n",
        "    for fonte, contagem in contagem_fontes.items():\n",
        "        resultado.write(f'{fonte}: {contagem} alunos\\n')"
      ]
    }
  ],
  "metadata": {
    "colab": {
      "provenance": []
    },
    "kernelspec": {
      "display_name": "Python 3",
      "language": "python",
      "name": "python3"
    },
    "language_info": {
      "codemirror_mode": {
        "name": "ipython",
        "version": 3
      },
      "file_extension": ".py",
      "mimetype": "text/x-python",
      "name": "python",
      "nbconvert_exporter": "python",
      "pygments_lexer": "ipython3",
      "version": "3.11.9"
    }
  },
  "nbformat": 4,
  "nbformat_minor": 0
}
