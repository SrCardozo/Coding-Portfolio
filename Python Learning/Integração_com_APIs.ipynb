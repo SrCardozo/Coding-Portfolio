{
  "cells": [
    {
      "cell_type": "code",
      "execution_count": null,
      "metadata": {
        "id": "FSCo_tjbW3Vm",
        "outputId": "88abfe4a-22f7-4272-98a9-a9c35f25ad2b"
      },
      "outputs": [
        {
          "name": "stdout",
          "output_type": "stream",
          "text": [
            " * Serving Flask app '__main__'\n",
            " * Debug mode: off\n"
          ]
        },
        {
          "name": "stderr",
          "output_type": "stream",
          "text": [
            "WARNING: This is a development server. Do not use it in a production deployment. Use a production WSGI server instead.\n",
            " * Running on http://127.0.0.1:5000\n"
          ]
        },
        {
          "name": "stderr",
          "output_type": "stream",
          "text": [
            "Press CTRL+C to quit\n",
            "127.0.0.1 - - [22/Jul/2024 19:26:15] \"GET / HTTP/1.1\" 404 -\n",
            "127.0.0.1 - - [22/Jul/2024 19:26:20] \"GET /teste HTTP/1.1\" 404 -\n",
            "127.0.0.1 - - [22/Jul/2024 19:26:28] \"GET /Teste HTTP/1.1\" 200 -\n"
          ]
        }
      ],
      "source": [
        "from flask import Flask, request\n",
        "\n",
        "app = Flask(__name__)\n",
        "\n",
        "@app.route(\"/Teste\", methods=[\"GET\", \"POST\", \"PUT\", \"DELETE\"])\n",
        "def hello_world():\n",
        "    return {\"Resultado\": \"Sucesso!\"}\n",
        "\n",
        "\n",
        "app.run()"
      ]
    },
    {
      "cell_type": "code",
      "execution_count": null,
      "metadata": {
        "id": "XdLoPKAUXOvg"
      },
      "outputs": [],
      "source": [
        "#Código para postar no replit:\n",
        "\n",
        "from flask import Flask, jsonify, request\n",
        "from flask_jwt_extended import (\n",
        "    JWTManager,\n",
        "    get_jwt,\n",
        "    create_access_token,\n",
        "    jwt_required,\n",
        ")\n",
        "\n",
        "vendas = {\"filial_BH\": 20000, \"filial_SP\": 80000, \"filial_RJ\": 40000}\n",
        "\n",
        "usuarios = {\"Alex\": \"4321\"}\n",
        "\n",
        "app = Flask(__name__)\n",
        "app.config[\"JWT_SECRET_KEY\"] = \"sua_chave_secreta\"\n",
        "jwt = JWTManager(app)\n",
        "\n",
        "\n",
        "@app.route(\"/login\", methods=[\"POST\"])\n",
        "def login():\n",
        "    usuario = request.json.get('usuario', None)\n",
        "    senha = request.json.get('senha', None)\n",
        "\n",
        "    if \"admin\" in usuario:\n",
        "        permissoes = {\"delete\": \"True\",\n",
        "                      \"update\": \"True\",\n",
        "                      \"read\": \"True\",\n",
        "                      \"create\": \"True\"\n",
        "                     }\n",
        "    else:\n",
        "        permissoes = {\"read\": \"True\"}\n",
        "\n",
        "    if usuario not in usuarios or senha != usuarios[usuario]:\n",
        "        return jsonify({\"msg\": \"Usuário ou senha incorretos\"})\n",
        "\n",
        "    access_token = create_access_token(identity=usuario, additional_claims=permissoes)\n",
        "    return jsonify(access_token=access_token)\n",
        "\n",
        "\n",
        "\n",
        "@app.route(\"/\")\n",
        "def consultar_vendas():\n",
        "    return vendas\n",
        "\n",
        "@app.route(\"/teste\")\n",
        "def teste():\n",
        "    return get_jwt()\n",
        "\n",
        "@app.route(\"/nova_filial\", methods=[\"POST\"])\n",
        "@jwt_required()\n",
        "def criar():\n",
        "    if request.method == \"POST\":\n",
        "        dados = request.form.to_dict()\n",
        "        vendas.update(dados)\n",
        "        return get_jwt()\n",
        "\n",
        "@app.route(\"/editar/<filial>\", methods=[\"PUT\",\"DELETE\"])\n",
        "@jwt_required()\n",
        "def editar(filial):\n",
        "    if filial in vendas:\n",
        "        if request.method == \"PUT\":\n",
        "            novos_dados = request.form.to_dict()\n",
        "            vendas[filial] = int(novos_dados.get('novo_valor'))\n",
        "            return vendas\n",
        "        elif request.method == \"DELETE\":\n",
        "            del(vendas[filial])\n",
        "            return vendas\n",
        "    else:\n",
        "        return {\"erro\": \"Filial não encontrada\"}\n",
        "\n",
        "app.run(host = \"0.0.0.0\")"
      ]
    },
    {
      "cell_type": "code",
      "execution_count": null,
      "metadata": {
        "id": "igeub0VwW3Vr",
        "outputId": "dcc4df57-13b5-4ad3-93f4-930cb0afdf89"
      },
      "outputs": [
        {
          "name": "stdout",
          "output_type": "stream",
          "text": [
            "<!doctype html>\n",
            "<html lang=en>\n",
            "<title>500 Internal Server Error</title>\n",
            "<h1>Internal Server Error</h1>\n",
            "<p>The server encountered an internal error and was unable to complete your request. Either the server is overloaded or there is an error in the application.</p>\n",
            "\n"
          ]
        }
      ],
      "source": [
        "import requests, json\n",
        "\n",
        "nova_filial = {\"filial_CTB\": 150000}\n",
        "\n",
        "req = requests.get(\"https://b2977271-5071-447a-af9e-cf61d47111bc-00-338m4902a998z.kirk.replit.dev/teste\")\n",
        "\n",
        "print(req.text)"
      ]
    },
    {
      "cell_type": "code",
      "execution_count": null,
      "metadata": {
        "id": "nS5EKM1AW3Vs",
        "outputId": "5f780627-a41d-4ae3-f4d8-343de0bb074d"
      },
      "outputs": [
        {
          "name": "stdout",
          "output_type": "stream",
          "text": [
            "[['Mês', 'Vendas'],\n",
            " ['janeiro', 'R$ 50.668,00'],\n",
            " ['fevereiro', 'R$ 98.475,00'],\n",
            " ['março', 'R$ 92.030,00'],\n",
            " ['abril', 'R$ 63.546,00'],\n",
            " ['maio', 'R$ 24.496,00'],\n",
            " ['junho', 'R$ 69.997,00'],\n",
            " ['julho', 'R$ 35.242,00'],\n",
            " ['agosto', 'R$ 73.105,00'],\n",
            " ['setembro', 'R$ 57.397,00'],\n",
            " ['outubro', 'R$ 30.293,00'],\n",
            " ['novembro', 'R$ 17.345,00'],\n",
            " ['dezembro', 'R$ 127.300,00']]\n"
          ]
        }
      ],
      "source": [
        "import os.path\n",
        "from pprint import pprint\n",
        "\n",
        "from google.auth.transport.requests import Request\n",
        "from google.oauth2.credentials import Credentials\n",
        "from google_auth_oauthlib.flow import InstalledAppFlow\n",
        "from googleapiclient.discovery import build\n",
        "from googleapiclient.errors import HttpError\n",
        "\n",
        "# If modifying these scopes, delete the file token.json.\n",
        "SCOPES = [\"https://www.googleapis.com/auth/spreadsheets\"]\n",
        "\n",
        "# The ID and range of a sample spreadsheet.\n",
        "SAMPLE_SPREADSHEET_ID = \"00aKojOddSX00yVt0BYP0NRlihlUHvOrtNx0sSCng0Po\"\n",
        "SAMPLE_RANGE_NAME = \"Página1!A1:B13\"\n",
        "\n",
        "\n",
        "def main():\n",
        "  \"\"\"Shows basic usage of the Sheets API.\n",
        "  Prints values from a sample spreadsheet.\n",
        "  \"\"\"\n",
        "  creds = None\n",
        "  # The file token.json stores the user's access and refresh tokens, and is\n",
        "  # created automatically when the authorization flow completes for the first\n",
        "  # time.\n",
        "  if os.path.exists(\"token.json\"):\n",
        "    creds = Credentials.from_authorized_user_file(\"token.json\", SCOPES)\n",
        "  # If there are no (valid) credentials available, let the user log in.\n",
        "  if not creds or not creds.valid:\n",
        "    if creds and creds.expired and creds.refresh_token:\n",
        "      creds.refresh(Request())\n",
        "    else:\n",
        "      flow = InstalledAppFlow.from_client_secrets_file(\n",
        "          \"credentials.json\", SCOPES\n",
        "      )\n",
        "      creds = flow.run_local_server(port=0)\n",
        "    # Save the credentials for the next run\n",
        "    with open(\"token.json\", \"w\") as token:\n",
        "      token.write(creds.to_json())\n",
        "\n",
        "\n",
        "  try:\n",
        "    service = build(\"sheets\", \"v4\", credentials=creds)\n",
        "\n",
        "    # Ler planilha\n",
        "    sheet = service.spreadsheets()\n",
        "    result = (\n",
        "        sheet.values()\n",
        "        .get(spreadsheetId=SAMPLE_SPREADSHEET_ID, range=SAMPLE_RANGE_NAME)\n",
        "        .execute()\n",
        "    )\n",
        "    values = result.get(\"values\") #Por padrão, todos os valores retornados são uma strin\n",
        "\n",
        "\n",
        "    # Editar planilha\n",
        "    i = 2\n",
        "    #Inserindo valores por fórmula\n",
        "    for linha in values[1:]:\n",
        "        valores_adicionar = [\n",
        "        [f\"=B{i}*10%\"]\n",
        "        ]\n",
        "\n",
        "    #Calculando direto no código para inserir somente valores na planilha:\n",
        "    for linha in values[1:]:\n",
        "        num = linha[1].replace(\"R$\",\"\").replace(\" \",\"\").replace(\".\",\"\").replace(\",\",\".\")\n",
        "        valores_adicionar = [\n",
        "        [float(num) * 0.1]\n",
        "        ]\n",
        "\n",
        "        result = (\n",
        "            sheet.values()\n",
        "            .update(spreadsheetId=SAMPLE_SPREADSHEET_ID, range=f\"C{i}\", valueInputOption = \"USER_ENTERED\", body={\"values\": valores_adicionar})\n",
        "            .execute()\n",
        "        )\n",
        "\n",
        "        i += 1\n",
        "\n",
        "    pprint(values)\n",
        "\n",
        "  except HttpError as err:\n",
        "    print(err)\n",
        "\n",
        "\n",
        "if __name__ == \"__main__\":\n",
        "  main()"
      ]
    },
    {
      "cell_type": "code",
      "execution_count": null,
      "metadata": {
        "id": "zW5zG7bNW3Vu",
        "outputId": "22b146ca-767c-477f-a0a6-1aff9e286ee5"
      },
      "outputs": [
        {
          "name": "stdout",
          "output_type": "stream",
          "text": [
            "<Response [200]>\n",
            "{\"name\":\"-O2oo7Snwopj6oh0ucaz\"}\n"
          ]
        }
      ],
      "source": [
        "import requests, json\n",
        "\n",
        "url = \"https://myfirstproject-1st-default-rtdb.firebaseio.com\"\n",
        "\n",
        "dados = {\"cliente\": \"Lira\", \"produto\": \"fone de ouvido\", \"quantidade\": 1, \"valor\": 50}\n",
        "\n",
        "req = requests.post(f\"{url}/Vendas/.json\", data=json.dumps(dados))\n",
        "\n",
        "print(req)\n",
        "print(req.text)"
      ]
    },
    {
      "cell_type": "code",
      "execution_count": null,
      "metadata": {
        "id": "uq2YqwVOW3Vv",
        "outputId": "4279389c-50ac-4caf-ee59-32ffab5c5766"
      },
      "outputs": [
        {
          "name": "stdout",
          "output_type": "stream",
          "text": [
            "<Response [200]>\n",
            "{\"cliente\":\"Alon\"}\n"
          ]
        }
      ],
      "source": [
        "dados = {\"cliente\": \"Alon\"}\n",
        "req = requests.patch(f\"{url}/Vendas/ID1/.json\", data=json.dumps(dados))\n",
        "\n",
        "print(req)\n",
        "print(req.text)"
      ]
    },
    {
      "cell_type": "code",
      "execution_count": null,
      "metadata": {
        "id": "9BrEQp5wW3Vw",
        "outputId": "8ba76a92-c2a0-47a8-fdfb-e47a3ec10ddd"
      },
      "outputs": [
        {
          "name": "stdout",
          "output_type": "stream",
          "text": [
            "[{'cliente': 'Lira', 'produto': 'fone de ouvido', 'quantidade': 1, 'valor': 50}, {'cliente': 'Lira', 'produto': 'teclado', 'quantidade': 1, 'valor': 100}]\n"
          ]
        }
      ],
      "source": [
        "req = requests.get(f\"{url}/Vendas/.json\")\n",
        "dic_vendas = req.json()\n",
        "\n",
        "compras_lira = [dic_vendas[venda] for venda in dic_vendas if dic_vendas[venda][\"cliente\"] == \"Lira\"]\n",
        "\n",
        "print(compras_lira)"
      ]
    },
    {
      "cell_type": "code",
      "execution_count": null,
      "metadata": {
        "id": "gdt1IUGOW3Vx",
        "outputId": "12ac6652-c3f9-4b26-9021-bfacca827aed"
      },
      "outputs": [
        {
          "name": "stdout",
          "output_type": "stream",
          "text": [
            "{'-O2oo7Snwopj6oh0ucaz': {'cliente': 'Lira', 'produto': 'fone de ouvido', 'quantidade': 1, 'valor': 50}, 'ID1': {'cliente': 'Alon', 'produto': 'fone de ouvido', 'quantidade': 2, 'valor': 100}}\n"
          ]
        }
      ],
      "source": [
        "req = requests.delete(f\"{url}/Vendas/ID3/.json\")\n",
        "\n",
        "req = requests.get(f\"{url}/Vendas/.json\")\n",
        "print(req.json())"
      ]
    }
  ],
  "metadata": {
    "colab": {
      "provenance": []
    },
    "kernelspec": {
      "display_name": "Python 3",
      "language": "python",
      "name": "python3"
    },
    "language_info": {
      "codemirror_mode": {
        "name": "ipython",
        "version": 3
      },
      "file_extension": ".py",
      "mimetype": "text/x-python",
      "name": "python",
      "nbconvert_exporter": "python",
      "pygments_lexer": "ipython3",
      "version": "3.11.9"
    }
  },
  "nbformat": 4,
  "nbformat_minor": 0
}
