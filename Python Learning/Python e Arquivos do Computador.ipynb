{
 "cells": [
  {
   "cell_type": "markdown",
   "metadata": {},
   "source": [
    "### Desafio\n",
    "\n",
    "Você trabalha em uma empresa que tem 18 lojas espalhadas por todo o Brasil e divididas em 5 estados diferentes:\n",
    "- RJ\n",
    "- SP\n",
    "- MG\n",
    "- GO\n",
    "- AM\n",
    "\n",
    "Todo trimestre, são calculados os indicadores de cada funcionário de cada loja e esses indicadores são armazenados em um arquivo em Excel.\n",
    "\n",
    "Cada estado tem 1 Gerente Geral responsável por todas as lojas daqueles estados.\n",
    "\n",
    "Pediram para você enviar para cada Gerente Geral todas as bases de indicadores correspondentes às lojas que ele é responsável, porque a equipe deles precisa desses indicadores.\n",
    "\n",
    "Obs: Não vamos enviar por e-mail porque ainda não aprendemos a fazer isso, mas vamos deixar todos os arquivos em uma pasta única para cada gerente, ou seja, para cada estado.\n",
    "\n",
    "Então o seu desafio é separar todos os arquivos de forma que cada arquivo esteja na pasta do estado correspondente aquele arquivo.\n",
    "\n",
    "Obs: Para pegar o nome de um arquivo como um texto no pathlib, você pode usar Path.name ou arquivo.name:<br>\n",
    "caminho = Path('Pasta/Arquivo.csv')<br>\n",
    "print(caminho.name) -> resposta: 'Arquivo.csv'"
   ]
  },
  {
   "cell_type": "code",
   "execution_count": null,
   "metadata": {},
   "outputs": [],
   "source": [
    "from pathlib import Path\n",
    "\n",
    "#caminho = Path.cwd()  -> obtém o caminho deste arquivo\n",
    "\n",
    "#A função Path serve para passar qualquer caminho de arquivo\n",
    "caminho = Path('c:/Users/Usuario/Downloads/Arquivos_Lojas/Arquivos_Lojas')\n",
    "\n",
    "#Cria um iterador com todos os arquivos da pasta especificada\n",
    "arquivos = caminho.iterdir()\n",
    "\n",
    "estados = ['RJ', 'SP', 'MG', 'GO', 'AM']\n",
    "\n",
    "#Cria uma pasta para cada estado\n",
    "for estado in estados:\n",
    "    Path(estado).mkdir()\n",
    "\n",
    "#Move cada arquivo para sua respectiva pasta    \n",
    "for arquivo in arquivos:\n",
    "    for estado in estados:\n",
    "        if '_' + estado in arquivo.name:\n",
    "            Path(arquivo).rename((Path(estado) / Path(arquivo.name)))"
   ]
  }
 ],
 "metadata": {
  "language_info": {
   "name": "python"
  }
 },
 "nbformat": 4,
 "nbformat_minor": 2
}
