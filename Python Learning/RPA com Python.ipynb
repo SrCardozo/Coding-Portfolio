{
  "cells": [
    {
      "cell_type": "markdown",
      "metadata": {
        "id": "lfB3cLklaWQ4"
      },
      "source": [
        "## Desafio\n",
        "\n",
        "- Vamos automatizar a extração de informações de um sistema e envio de um relatório por e-mail\n",
        "- No nosso caso, para todo mundo conseguir fazer o mesmo programa, o nosso \"sistema\" vai ser o Gmail, mas o mesmo processo pode ser feito com qualquer programa do seu computador e qualquer sistema\n",
        "    - Passo 1: Entrar no sistema (entrar no Gmail)\n",
        "    - Passo 2: Entrar em uma aba específica do sistema onde tem o nosso relatório (Aba Contatos)\n",
        "    - Passo 3: Exportar o Relatório (Exportar Contatos)\n",
        "    - Passo 4: Pegar o relatório exportado, tratar e pegar as informações que queremos\n",
        "    - Passo 5: Preencher/Atualizar informações do sistema (No nosso caso, criar um e-mail e enviar)"
      ]
    },
    {
      "cell_type": "code",
      "source": [
        "!pip install pyautogui"
      ],
      "metadata": {
        "id": "jO2nj1Y8NOn_"
      },
      "execution_count": null,
      "outputs": []
    },
    {
      "cell_type": "code",
      "source": [
        "import pyautogui as p, pygetwindow as gw, pandas as pd, pyperclip\n",
        "\n",
        "p.alert('AVISO: Não use o computador enquanto a automação estiver rodando!')\n",
        "\n",
        "p.FAILSAFE = True\n",
        "p.PAUSE = 0.5\n",
        "\n",
        "#Abrir e maximizar o navegador Edge\n",
        "p.press('win')\n",
        "p.write('Edge')\n",
        "p.press('enter')\n",
        "p.sleep(2)\n",
        "\n",
        "janela_ativa = gw.getActiveWindow()\n",
        "if janela_ativa.isMaximized == False:\n",
        "    janela_ativa.maximize()\n",
        "\n",
        "#Navegar até o Gmail\n",
        "p.write('gmail.google.com', interval=0.0)\n",
        "p.press('enter')\n",
        "\n",
        "#Aguardar a página carregar\n",
        "while True:\n",
        "    try:\n",
        "        p.locateOnScreen(r'C:\\Users\\AMCTE\\Downloads\\Imagens RPA\\Google Apps.png')\n",
        "        break\n",
        "    except:\n",
        "        continue\n",
        "\n",
        "#Abrir contatos\n",
        "p.click(r'C:\\Users\\AMCTE\\Downloads\\Imagens RPA\\Google Apps.png')\n",
        "p.sleep(0.1)\n",
        "p.click(r'C:\\Users\\AMCTE\\Downloads\\Imagens RPA\\icone contatos.png')\n",
        "p.sleep(3)\n",
        "\n",
        "#Exportar contatos favoritos\n",
        "p.click(r'C:\\Users\\AMCTE\\Downloads\\Imagens RPA\\botão exportar.png')\n",
        "p.press('tab')\n",
        "p.press('down')\n",
        "p.press('down')\n",
        "p.press('enter')\n",
        "p.click(r'C:\\Users\\AMCTE\\Downloads\\Imagens RPA\\confirmar exportação.png')\n",
        "\n",
        "\n",
        "#Tratar dados exportados\n",
        "while True:\n",
        "    try:\n",
        "        df_contatos = pd.read_csv(r'C:\\Users\\AMCTE\\Downloads\\contacts.csv', sep=',')\n",
        "        break\n",
        "    except:\n",
        "        continue\n",
        "\n",
        "df_contatos = df_contatos[['First Name', 'Phone 1 - Value', 'E-mail 1 - Value']].rename(\n",
        "    columns={'First Name': 'Nome', 'Phone 1 - Value': 'Telefone', 'E-mail 1 - Value': 'E-mail'})\n",
        "\n",
        "df_contatos.to_excel(r'C:\\Users\\AMCTE\\Downloads\\Contatos.xlsx', index=False)\n",
        "\n",
        "\n",
        "#Criar e-mail\n",
        "p.hotkey('ctrl', 'w')\n",
        "p.click(r'C:\\Users\\AMCTE\\Downloads\\Imagens RPA\\escrever email.png')\n",
        "p.sleep(0.5)\n",
        "p.write('email_teste@gmail.com')\n",
        "p.sleep(0.5)\n",
        "p.press(['tab', 'tab'])\n",
        "p.write('Contatos Favoritos')\n",
        "p.press('tab')\n",
        "\n",
        "#Escrever corpo do email\n",
        "texto = '''\n",
        "Olá, fulano!\n",
        "\n",
        "Segue em anexo a lista dos meus contatos favoritos, conforme solicitado.\n",
        "\n",
        "Atenciosamente,\n",
        "'''\n",
        "\n",
        "#Usar pyperclip para escrever caracteres especiais e acentos corretamente\n",
        "pyperclip.copy(texto)\n",
        "p.hotkey('ctrl', 'v')\n",
        "\n",
        "#Inserir anexo\n",
        "p.click(r'C:\\Users\\AMCTE\\Downloads\\Imagens RPA\\inserir anexo.png')\n",
        "p.sleep(5)\n",
        "p.write(r'C:\\Users\\AMCTE\\Downloads\\Contatos.xlsx')\n",
        "p.press('enter')\n",
        "\n",
        "p.alert('Automação finalizada! Já pode voltar a usar o PC ;)')"
      ],
      "metadata": {
        "id": "p0w-GYI7NSJK"
      },
      "execution_count": null,
      "outputs": []
    }
  ],
  "metadata": {
    "kernelspec": {
      "display_name": "Python 3",
      "language": "python",
      "name": "python3"
    },
    "language_info": {
      "codemirror_mode": {
        "name": "ipython",
        "version": 3
      },
      "file_extension": ".py",
      "mimetype": "text/x-python",
      "name": "python",
      "nbconvert_exporter": "python",
      "pygments_lexer": "ipython3",
      "version": "3.11.9"
    },
    "colab": {
      "provenance": []
    }
  },
  "nbformat": 4,
  "nbformat_minor": 0
}