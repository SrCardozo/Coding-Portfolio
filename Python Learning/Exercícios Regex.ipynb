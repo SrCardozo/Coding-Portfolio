{
  "cells": [
    {
      "cell_type": "markdown",
      "id": "4882c553",
      "metadata": {
        "id": "4882c553"
      },
      "source": [
        "### Operadores\n",
        "\n",
        "    [] – conjunto de  caracteres;\n",
        "    \\ – sequência especial de caracteres;\n",
        "    ^ – buscar elementos no início da string;\n",
        "    $ – buscar elementos no final da string;\n",
        "    * – buscar zero ou mais repetições de uma substring;\n",
        "    + – uma ou mais aparições de uma substring;\n",
        "    ? – zero ou uma aparição;\n",
        "    | – busca um caractere ou outro.\n",
        "    {} - quantidade específica de caracteres\n",
        "    [^] - diferente de um caractere especificado logo após o ^\n",
        "    () - apenas para agrupar regras e definir ordem de aplicação (igual matemática)\n",
        "\n",
        "### Especificando caracteres:\n",
        "    . - qualquer caractere\n",
        "    \\d - qualquer dígito\n",
        "    \\D - não é dígito\n",
        "    \\w - qualquer alfanumérico\n",
        "    \\W - não é alfanumérico\n",
        "    \\s - espaço em branco\n",
        "    \\S - não é espaço em branco\n",
        "\n",
        "#### obs: lembre de usar a string como raw string\n",
        "\n",
        "### Funções\n",
        "#### Lembre sempre de importar a biblioteca re\n",
        "\n",
        "- re.compile('padrao_regex') -> compilar um padrão regex\n",
        "- re.search(padrao_compilado, texto) -> procura uma ocorrência do padrão no texto (re.match só procura na 1ª linha do texto)\n",
        "- re.findall(padrao_compilado, texto) -> encontra todas as ocorrencias do padrão em um texto - armazena em uma lista\n",
        "- re.finditer(padrao_compilado, texto) -> encontra todas as ocorrencias e armazena em um iterador"
      ]
    },
    {
      "cell_type": "code",
      "execution_count": null,
      "id": "8900fc84",
      "metadata": {
        "id": "8900fc84"
      },
      "outputs": [],
      "source": [
        "texto = \"\"\"\n",
        "Bom dia,\n",
        "\n",
        "Seguem os orçamentos solicitados:\n",
        "\n",
        "\n",
        "Cerveja importada (330 ml) - R$12,30598615178 - bebida\n",
        "Cerveja nacional (0,5 litros) - R$6,10 - bebida\n",
        "Garrafa de vinho (750ml) - R$39,90 - bebida\n",
        "Água (garrafa de 1,5 litros) - R$3,30 - bebida\n",
        "Alface (1 unidade) - R$3,50 - comida\n",
        "Cebolas (1kg) - R$5,10 - comida\n",
        "Batatas (1 kg) - R$5,20 - comida\n",
        "Tomates (1 kg) - R$7,90 - comida\n",
        "Laranjas (1 kg) - R$4,70 - comida\n",
        "Bananas (1kg) - R$5,50 - comida\n",
        "Maçãs (1 kg) - R$8,30 - comida\n",
        "Queijo fresco (1 kg) - R$42,90 - comida\n",
        "Uma dúzia de ovos(12) - R$9,80 - comida\n",
        "Arroz (1 kg) - R$5,70 - comida\n",
        "Um quilo de pão (1 kg) - R$7,20 - comida\n",
        "Leite (1 litro) - R$5,20 - bebida\n",
        "Azeite (1 unidade) - R$20 - tempero\n",
        "Pimenta Reino (20g) - R$5 - tempero\n",
        "\n",
        "\n",
        "Favor informar as quantidades desejadas\n",
        "para emissão da Nota Fiscal.\n",
        "\n",
        "Att.,\"\"\""
      ]
    },
    {
      "cell_type": "markdown",
      "id": "3e3da46f",
      "metadata": {
        "id": "3e3da46f"
      },
      "source": [
        "#### Ex: Quantos itens"
      ]
    },
    {
      "cell_type": "code",
      "execution_count": null,
      "id": "664f4bc0",
      "metadata": {
        "id": "664f4bc0",
        "outputId": "7cb323ab-4c08-4f43-aebf-bdb056e97a01"
      },
      "outputs": [
        {
          "name": "stdout",
          "output_type": "stream",
          "text": [
            "11\n",
            "5\n"
          ]
        }
      ],
      "source": [
        "import re\n",
        "\n",
        "# quantas comidas\n",
        "padrao = re.compile('comida')\n",
        "\n",
        "contagem_comida = len(re.findall(padrao, texto))\n",
        "print(contagem_comida)\n",
        "\n",
        "# quantas bebidas\n",
        "padrao = re.compile('bebida')\n",
        "\n",
        "contagem_bebida = len(re.findall(padrao, texto))\n",
        "print(contagem_bebida)"
      ]
    },
    {
      "cell_type": "code",
      "execution_count": null,
      "id": "d8d340fc",
      "metadata": {
        "id": "d8d340fc",
        "outputId": "3e89add2-e5ca-4b56-d470-26c4e0f9d890"
      },
      "outputs": [
        {
          "name": "stdout",
          "output_type": "stream",
          "text": [
            "18\n"
          ]
        }
      ],
      "source": [
        "# quantos itens\n",
        "padrao = re.compile('\\$')\n",
        "contagem_items = len(re.findall(padrao, texto))\n",
        "\n",
        "print(contagem_items)"
      ]
    },
    {
      "cell_type": "markdown",
      "id": "cc12bc6d",
      "metadata": {
        "id": "cc12bc6d"
      },
      "source": [
        "#### Ex: Extrair números"
      ]
    },
    {
      "cell_type": "code",
      "execution_count": null,
      "id": "e96fa8ec",
      "metadata": {
        "id": "e96fa8ec",
        "outputId": "664b280b-f2c1-4d5a-f4a4-43558dace6cb"
      },
      "outputs": [
        {
          "name": "stdout",
          "output_type": "stream",
          "text": [
            "['330', '12,30598615178', '0,5', '6,10', '750', '39,90', '1,5', '3,30', '1', '3,50', '1', '5,10', '1', '5,20', '1', '7,90', '1', '4,70', '1', '5,50', '1', '8,30', '1', '42,90', '12', '9,80', '1', '5,70', '1', '7,20', '1', '5,20', '1', '20', '20', '5']\n"
          ]
        }
      ],
      "source": [
        "padrao = re.compile(r'\\d+,?\\d*')\n",
        "resultado = re.findall(padrao, texto)\n",
        "\n",
        "print(resultado)"
      ]
    },
    {
      "cell_type": "markdown",
      "id": "74477194",
      "metadata": {
        "id": "74477194"
      },
      "source": [
        "#### Ex: Extrair quantos ml (do 1º item)"
      ]
    },
    {
      "cell_type": "code",
      "execution_count": null,
      "id": "3e41e61a",
      "metadata": {
        "id": "3e41e61a",
        "outputId": "b70f0918-ec53-43d8-bbdb-31a2ee5d8bda"
      },
      "outputs": [
        {
          "name": "stdout",
          "output_type": "stream",
          "text": [
            "330 ml\n"
          ]
        }
      ],
      "source": [
        "padrao = re.compile(r'\\((\\d+\\s?\\w+)\\)')\n",
        "resultado = re.search(padrao, texto).group(1)\n",
        "\n",
        "print(resultado)"
      ]
    },
    {
      "cell_type": "markdown",
      "id": "56f1d77b",
      "metadata": {
        "id": "56f1d77b"
      },
      "source": [
        "#### Ex: Preço do 1º item"
      ]
    },
    {
      "cell_type": "code",
      "execution_count": null,
      "id": "f33962c5",
      "metadata": {
        "id": "f33962c5",
        "outputId": "97853a14-ce68-41e0-f0d0-4f020dc56e55"
      },
      "outputs": [
        {
          "name": "stdout",
          "output_type": "stream",
          "text": [
            "R$12,30598615178\n"
          ]
        }
      ],
      "source": [
        "padrao = re.compile(r'R\\$\\d+,?\\d*')\n",
        "resultado = re.search(padrao, texto).group(0)\n",
        "\n",
        "print(resultado)"
      ]
    },
    {
      "cell_type": "markdown",
      "id": "3f125f90",
      "metadata": {
        "id": "3f125f90"
      },
      "source": [
        "#### Ex: Todos os preços"
      ]
    },
    {
      "cell_type": "code",
      "execution_count": null,
      "id": "0140fd16",
      "metadata": {
        "id": "0140fd16",
        "outputId": "269eac17-60c8-42e9-e7a0-b37e011f65c1"
      },
      "outputs": [
        {
          "data": {
            "text/plain": [
              "['12,30',\n",
              " '6,10',\n",
              " '39,90',\n",
              " '3,30',\n",
              " '3,50',\n",
              " '5,10',\n",
              " '5,20',\n",
              " '7,90',\n",
              " '4,70',\n",
              " '5,50',\n",
              " '8,30',\n",
              " '42,90',\n",
              " '9,80',\n",
              " '5,70',\n",
              " '7,20',\n",
              " '5,20',\n",
              " '20',\n",
              " '5']"
            ]
          },
          "execution_count": 46,
          "metadata": {},
          "output_type": "execute_result"
        }
      ],
      "source": [
        "padrao = re.compile(r'R\\$(\\d+,?\\d{0,2})')\n",
        "resultado = re.findall(padrao, texto)\n",
        "\n",
        "resultado"
      ]
    },
    {
      "cell_type": "markdown",
      "id": "7729f8ee",
      "metadata": {
        "id": "7729f8ee"
      },
      "source": [
        "#### Ex: Quantidades dos itens"
      ]
    },
    {
      "cell_type": "code",
      "execution_count": null,
      "id": "7b0489b9",
      "metadata": {
        "id": "7b0489b9",
        "outputId": "db88dcaf-7cfa-412e-e22a-24439c333660"
      },
      "outputs": [
        {
          "data": {
            "text/plain": [
              "['330 ml',\n",
              " '0,5 litros',\n",
              " '750ml',\n",
              " 'garrafa de 1,5 litros',\n",
              " '1 unidade',\n",
              " '1kg',\n",
              " '1 kg',\n",
              " '1 kg',\n",
              " '1 kg',\n",
              " '1kg',\n",
              " '1 kg',\n",
              " '1 kg',\n",
              " '12',\n",
              " '1 kg',\n",
              " '1 kg',\n",
              " '1 litro',\n",
              " '1 unidade',\n",
              " '20g']"
            ]
          },
          "execution_count": 32,
          "metadata": {},
          "output_type": "execute_result"
        }
      ],
      "source": [
        "padrao = re.compile(r'\\((.+)\\)')\n",
        "resultado = re.findall(padrao, texto)\n",
        "\n",
        "resultado"
      ]
    },
    {
      "cell_type": "markdown",
      "id": "e2d8e3da",
      "metadata": {
        "id": "e2d8e3da"
      },
      "source": [
        "#### Ex: Links"
      ]
    },
    {
      "cell_type": "code",
      "execution_count": null,
      "id": "a012ad53",
      "metadata": {
        "id": "a012ad53"
      },
      "outputs": [],
      "source": [
        "texto2 = \"\"\"\n",
        "Olá\n",
        "\n",
        "Segue o relatório de SEO para os seguintes sites:\n",
        "https://portalhashtag.com\n",
        "http://hashtagtreinamentos.com\n",
        "https://www.wikipedia.org/\n",
        "www.bcb.gov.br/\n",
        "\n",
        "Qualquer dúvida estamos à disposição\"\"\""
      ]
    },
    {
      "cell_type": "code",
      "execution_count": null,
      "id": "f7a362e3",
      "metadata": {
        "id": "f7a362e3",
        "outputId": "410bbd1c-0f72-4f65-a15c-7abdd7269d4e"
      },
      "outputs": [
        {
          "name": "stdout",
          "output_type": "stream",
          "text": [
            "https://portalhashtag.com\n",
            "http://hashtagtreinamentos.com\n",
            "https://www.wikipedia.org/\n",
            "www.bcb.gov.br/\n"
          ]
        }
      ],
      "source": [
        "padrao_link = re.compile(r'(https?://)?(www\\.)?\\w+\\.(com\\.br|com|gov\\.br|org)/?')\n",
        "\n",
        "links = re.finditer(padrao_link, texto2)\n",
        "\n",
        "for link in links:\n",
        "    print(link.group(0))"
      ]
    },
    {
      "cell_type": "code",
      "execution_count": null,
      "id": "74b49d95",
      "metadata": {
        "id": "74b49d95",
        "outputId": "81ca6831-d406-4ebc-c9b3-4a61dd150c51"
      },
      "outputs": [
        {
          "name": "stdout",
          "output_type": "stream",
          "text": [
            "CPF: 123.456.789-10\n",
            "CEP: 35.790-000\n"
          ]
        }
      ],
      "source": [
        "cadastro = 'Alex Cardoso, CPF 123.456.789-10, RG 01.234.567, residente na rua tal, bairro qualquer, cidade Belo Horizonte - MG, CEP 35.790-000'\n",
        "\n",
        "padrao_cpf = re.compile(r'\\d+\\.\\d{3}\\.\\d{3}-\\d{2}')\n",
        "cpf = re.findall(padrao_cpf, cadastro)\n",
        "\n",
        "padrao_cep = re.compile(r'\\d+\\.\\d{3}-\\d{3}')\n",
        "cep = re.findall(padrao_cep, cadastro)\n",
        "\n",
        "print('CPF:', cpf[0])\n",
        "print('CEP:', cep[0])"
      ]
    }
  ],
  "metadata": {
    "kernelspec": {
      "display_name": "Python 3 (ipykernel)",
      "language": "python",
      "name": "python3"
    },
    "language_info": {
      "codemirror_mode": {
        "name": "ipython",
        "version": 3
      },
      "file_extension": ".py",
      "mimetype": "text/x-python",
      "name": "python",
      "nbconvert_exporter": "python",
      "pygments_lexer": "ipython3",
      "version": "3.11.9"
    },
    "colab": {
      "provenance": []
    }
  },
  "nbformat": 4,
  "nbformat_minor": 5
}